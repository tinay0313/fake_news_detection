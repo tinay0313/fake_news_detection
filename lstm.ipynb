{
 "cells": [
  {
   "cell_type": "code",
   "execution_count": 1,
   "metadata": {},
   "outputs": [],
   "source": [
    "#import needed libraries\n",
    "\n",
    "import numpy as np\n",
    "import pandas as pd\n",
    "import matplotlib.pyplot as plt\n",
    "import tensorflow as tf\n",
    "from tensorflow.keras.preprocessing.text import Tokenizer\n",
    "from tensorflow.keras.preprocessing.sequence import pad_sequences\n",
    "from sklearn.model_selection import train_test_split\n",
    "\n",
    "from tensorflow.keras.optimizers import Adam\n",
    "from tensorflow.keras.models import Sequential\n",
    "from tensorflow.keras.layers import Embedding, Dense, LSTM, Bidirectional\n",
    "\n",
    "from sklearn.metrics import classification_report, confusion_matrix\n",
    "\n",
    "import seaborn as sns\n",
    "\n",
    "import os"
   ]
  },
  {
   "cell_type": "markdown",
   "metadata": {},
   "source": [
    "### Load Data"
   ]
  },
  {
   "cell_type": "code",
   "execution_count": 2,
   "metadata": {},
   "outputs": [],
   "source": [
    "df = pd.read_csv('input_label.csv')\n",
    "\n",
    "dfX = df['text'].astype(str)\n",
    "dfY = df['label']"
   ]
  },
  {
   "cell_type": "code",
   "execution_count": 3,
   "metadata": {},
   "outputs": [],
   "source": [
    "dfXArr = dfX.to_numpy()\n",
    "dfYArr = dfY.to_numpy()\n",
    "\n",
    "x_train, x_test, y_train, y_test = train_test_split(dfXArr, dfYArr, test_size= 0.3, random_state=313)"
   ]
  },
  {
   "cell_type": "code",
   "execution_count": 4,
   "metadata": {},
   "outputs": [
    {
     "data": {
      "text/plain": [
       "0    donald trump sends embarrassing new year eve m...\n",
       "1    drunk bragging trump staffer started russian c...\n",
       "2    sheriff david clarke becomes internet joke thr...\n",
       "3    trump obsessed even obamas name coded website ...\n",
       "4    pope francis called donald trump christmas spe...\n",
       "Name: text, dtype: object"
      ]
     },
     "execution_count": 4,
     "metadata": {},
     "output_type": "execute_result"
    }
   ],
   "source": [
    "dfX.head()"
   ]
  },
  {
   "cell_type": "code",
   "execution_count": 5,
   "metadata": {},
   "outputs": [
    {
     "data": {
      "text/plain": [
       "0    0\n",
       "1    0\n",
       "2    0\n",
       "3    0\n",
       "4    0\n",
       "Name: label, dtype: int64"
      ]
     },
     "execution_count": 5,
     "metadata": {},
     "output_type": "execute_result"
    }
   ],
   "source": [
    "dfY.head()"
   ]
  },
  {
   "cell_type": "markdown",
   "metadata": {},
   "source": [
    "### Data preprocessing (aka tokenization)\n",
    "\n",
    "Tokenization - direct mapping of a token (a word or a character) to a number\n",
    "\n",
    "Embedding - create a matrix of feature vector for each token where the size of the feature vector is defined and embedding can be learned"
   ]
  },
  {
   "cell_type": "code",
   "execution_count": 6,
   "metadata": {},
   "outputs": [
    {
     "data": {
      "text/plain": [
       "242"
      ]
     },
     "execution_count": 6,
     "metadata": {},
     "output_type": "execute_result"
    }
   ],
   "source": [
    "#find average number of tokens per sentence in training dataset\n",
    "round(sum([len(sentence.split()) for sentence in x_train]) / len(x_train))"
   ]
  },
  {
   "cell_type": "code",
   "execution_count": 7,
   "metadata": {},
   "outputs": [],
   "source": [
    "#declare hyperparameters\n",
    "\n",
    "# vocabulary range\n",
    "max_vocab_length = 10000\n",
    "# chosen to be the average number of tokens per sentence in training set\n",
    "max_seq_length = 242\n",
    "# tokenizer will create a token for each word and replace each OOV word with the 'OOV' token\n",
    "oov_rep = '<OOV>'\n",
    "\n",
    "trunc_type = 'post'\n",
    "padding_type = 'post'\n",
    "\n",
    "embedding_dim = 40"
   ]
  },
  {
   "cell_type": "code",
   "execution_count": 8,
   "metadata": {},
   "outputs": [
    {
     "name": "stdout",
     "output_type": "stream",
     "text": [
      "Vocabulary size:  191103\n"
     ]
    }
   ],
   "source": [
    "# num_words stores the maximum number of vocabulary words to use when transformations are called\n",
    "tokenizer = Tokenizer(num_words=max_vocab_length, oov_token=oov_rep)\n",
    "tokenizer.fit_on_texts(x_train)\n",
    "\n",
    "# word_index is dictionary where key is a token (in our case, a token is a word)\n",
    "# and value is the integer representation of the token\n",
    "word_index = tokenizer.word_index\n",
    "vocab_size = len(word_index)\n",
    "\n",
    "print(\"Vocabulary size: \", vocab_size)"
   ]
  },
  {
   "cell_type": "code",
   "execution_count": 9,
   "metadata": {},
   "outputs": [],
   "source": [
    "# place train and test data sets into sequences\n",
    "train_sequence = tokenizer.texts_to_sequences(x_train)\n",
    "test_sequence = tokenizer.texts_to_sequences(x_test)"
   ]
  },
  {
   "cell_type": "code",
   "execution_count": 10,
   "metadata": {},
   "outputs": [
    {
     "name": "stdout",
     "output_type": "stream",
     "text": [
      "x train shape:  (31428, 242)\n",
      "x test shape:  (13470, 242)\n"
     ]
    }
   ],
   "source": [
    "# padding handles sentences of different lengths\n",
    "# with padding_type='post', will pad sequunces of length < maxlen to maxlen\n",
    "# with trunc_type='post', will truncate sequences of length > maxlen to maxlen by removing values from the end of the sentence\n",
    "train_padded = pad_sequences(train_sequence, maxlen=max_seq_length, padding=padding_type, truncating=trunc_type)\n",
    "test_padded = pad_sequences(test_sequence, maxlen=max_seq_length, padding=padding_type, truncating=trunc_type)\n",
    "\n",
    "print(\"x train shape: \", train_padded.shape)\n",
    "print(\"x test shape: \", test_padded.shape)"
   ]
  },
  {
   "cell_type": "markdown",
   "metadata": {},
   "source": [
    "### Modeling"
   ]
  },
  {
   "cell_type": "code",
   "execution_count": 11,
   "metadata": {},
   "outputs": [
    {
     "name": "stdout",
     "output_type": "stream",
     "text": [
      "Model: \"sequential\"\n",
      "_________________________________________________________________\n",
      "Layer (type)                 Output Shape              Param #   \n",
      "=================================================================\n",
      "embedding (Embedding)        (None, 242, 40)           7644120   \n",
      "_________________________________________________________________\n",
      "bidirectional (Bidirectional (None, 200)               112800    \n",
      "_________________________________________________________________\n",
      "dense (Dense)                (None, 1)                 201       \n",
      "=================================================================\n",
      "Total params: 7,757,121\n",
      "Trainable params: 7,757,121\n",
      "Non-trainable params: 0\n",
      "_________________________________________________________________\n",
      "None\n"
     ]
    }
   ],
   "source": [
    "# model consists of one embedding layer, one ;long short term memory layer, and one output layer\n",
    "model = tf.keras.Sequential([\n",
    "    tf.keras.layers.Embedding(input_dim=vocab_size, output_dim=embedding_dim, input_length=max_seq_length),\n",
    "    tf.keras.layers.Bidirectional(LSTM(100)),\n",
    "    tf.keras.layers.Dense(1,activation='sigmoid')\n",
    "])\n",
    "\n",
    "model.compile(loss='binary_crossentropy',optimizer='adam',metrics=['accuracy'])\n",
    "\n",
    "print(model.summary())"
   ]
  },
  {
   "cell_type": "code",
   "execution_count": 12,
   "metadata": {},
   "outputs": [
    {
     "name": "stdout",
     "output_type": "stream",
     "text": [
      "Epoch 1/10\n",
      "983/983 - 378s - loss: 0.0735 - accuracy: 0.9745 - val_loss: 0.0280 - val_accuracy: 0.9901\n",
      "\n",
      "Epoch 00001: saving model to lstm_training/cp.ckpt\n",
      "Epoch 2/10\n",
      "983/983 - 380s - loss: 0.0114 - accuracy: 0.9967 - val_loss: 0.0206 - val_accuracy: 0.9933\n",
      "\n",
      "Epoch 00002: saving model to lstm_training/cp.ckpt\n",
      "Epoch 3/10\n",
      "983/983 - 379s - loss: 0.0060 - accuracy: 0.9982 - val_loss: 0.0234 - val_accuracy: 0.9918\n",
      "\n",
      "Epoch 00003: saving model to lstm_training/cp.ckpt\n",
      "Epoch 4/10\n",
      "983/983 - 370s - loss: 0.0047 - accuracy: 0.9988 - val_loss: 0.0291 - val_accuracy: 0.9931\n",
      "\n",
      "Epoch 00004: saving model to lstm_training/cp.ckpt\n",
      "Epoch 5/10\n",
      "983/983 - 367s - loss: 0.0031 - accuracy: 0.9991 - val_loss: 0.0430 - val_accuracy: 0.9895\n",
      "\n",
      "Epoch 00005: saving model to lstm_training/cp.ckpt\n",
      "Epoch 6/10\n",
      "983/983 - 364s - loss: 0.0014 - accuracy: 0.9996 - val_loss: 0.0361 - val_accuracy: 0.9928\n",
      "\n",
      "Epoch 00006: saving model to lstm_training/cp.ckpt\n",
      "Epoch 7/10\n",
      "983/983 - 364s - loss: 0.0016 - accuracy: 0.9996 - val_loss: 0.0344 - val_accuracy: 0.9934\n",
      "\n",
      "Epoch 00007: saving model to lstm_training/cp.ckpt\n",
      "Epoch 8/10\n",
      "983/983 - 362s - loss: 0.0018 - accuracy: 0.9994 - val_loss: 0.0468 - val_accuracy: 0.9907\n",
      "\n",
      "Epoch 00008: saving model to lstm_training/cp.ckpt\n",
      "Epoch 9/10\n",
      "983/983 - 363s - loss: 0.0016 - accuracy: 0.9995 - val_loss: 0.0377 - val_accuracy: 0.9937\n",
      "\n",
      "Epoch 00009: saving model to lstm_training/cp.ckpt\n",
      "Epoch 10/10\n",
      "983/983 - 377s - loss: 0.0022 - accuracy: 0.9993 - val_loss: 0.0325 - val_accuracy: 0.9928\n",
      "\n",
      "Epoch 00010: saving model to lstm_training/cp.ckpt\n",
      "CPU times: user 1h 48min 32s, sys: 8min 22s, total: 1h 56min 55s\n",
      "Wall time: 1h 1min 45s\n"
     ]
    }
   ],
   "source": [
    "%%time\n",
    "# training\n",
    "num_epochs = 10\n",
    "checkpoint_path = \"lstm_training/cp.ckpt\"\n",
    "checkpoint_dir = os.path.dirname(checkpoint_path)\n",
    "\n",
    "# Create a callback that saves the model's weights\n",
    "cp_callback = tf.keras.callbacks.ModelCheckpoint(filepath=checkpoint_path, save_weights_only=True, verbose=1)\n",
    "\n",
    "model_history = model.fit(train_padded, y_train, epochs=num_epochs, validation_data=(test_padded, y_test), verbose=2, callbacks=[cp_callback])"
   ]
  },
  {
   "cell_type": "code",
   "execution_count": 13,
   "metadata": {},
   "outputs": [
    {
     "name": "stdout",
     "output_type": "stream",
     "text": [
      "421/421 [==============================] - 37s 88ms/step - loss: 0.0325 - accuracy: 0.9928\n",
      "CPU times: user 1min 2s, sys: 1.84 s, total: 1min 4s\n",
      "Wall time: 36.9 s\n"
     ]
    },
    {
     "data": {
      "text/plain": [
       "[0.03254955634474754, 0.9927988052368164]"
      ]
     },
     "execution_count": 13,
     "metadata": {},
     "output_type": "execute_result"
    }
   ],
   "source": [
    "%%time\n",
    "model.evaluate(test_padded, y_test)"
   ]
  },
  {
   "cell_type": "code",
   "execution_count": 15,
   "metadata": {},
   "outputs": [
    {
     "name": "stdout",
     "output_type": "stream",
     "text": [
      "              precision    recall  f1-score   support\n",
      "\n",
      "           0       0.99      1.00      0.99      6967\n",
      "           1       1.00      0.99      0.99      6503\n",
      "\n",
      "    accuracy                           0.99     13470\n",
      "   macro avg       0.99      0.99      0.99     13470\n",
      "weighted avg       0.99      0.99      0.99     13470\n",
      "\n",
      "CPU times: user 1min, sys: 1.26 s, total: 1min 1s\n",
      "Wall time: 34.9 s\n"
     ]
    }
   ],
   "source": [
    "%%time\n",
    "# inference\n",
    "# prediction = model.predict_classes(test_padded)\n",
    "prediction = (model.predict(test_padded) > 0.5).astype('int32')\n",
    "print(classification_report(y_test, prediction))"
   ]
  },
  {
   "cell_type": "code",
   "execution_count": 16,
   "metadata": {},
   "outputs": [
    {
     "name": "stdout",
     "output_type": "stream",
     "text": [
      "[[6938   29]\n",
      " [  68 6435]]\n"
     ]
    }
   ],
   "source": [
    "# confusion matrix\n",
    "cf_matrix = confusion_matrix(y_test, prediction)\n",
    "print(cf_matrix)"
   ]
  },
  {
   "cell_type": "code",
   "execution_count": 17,
   "metadata": {},
   "outputs": [
    {
     "data": {
      "image/png": "[encoded data removed]",
      "text/plain": [
       "<Figure size 576x432 with 2 Axes>"
      ]
     },
     "metadata": {
      "needs_background": "light"
     },
     "output_type": "display_data"
    }
   ],
   "source": [
    "fig, ax = plt.subplots(figsize=(8,6))\n",
    "\n",
    "group_names = ['True Fake','False Real','False Fake','True Real']\n",
    "group_counts = ['{0:0.0f}'.format(value) for value in cf_matrix.flatten()]\n",
    "group_percentages = ['{0:.2%}'.format(value) for value in cf_matrix.flatten()/np.sum(cf_matrix)]\n",
    "labels = [f'{v1}\\n{v2}\\n{v3}' for v1, v2, v3 in zip(group_names,group_counts,group_percentages)]\n",
    "labels = np.asarray(labels).reshape(2,2)\n",
    "sns.heatmap(cf_matrix, annot=labels, cmap='Blues', fmt='', ax=ax)\n",
    "plt.show()"
   ]
  },
  {
   "cell_type": "markdown",
   "metadata": {},
   "source": [
    "### Another set of test data from politifact.com"
   ]
  },
  {
   "cell_type": "code",
   "execution_count": 18,
   "metadata": {},
   "outputs": [],
   "source": [
    "politifactDf = pd.read_csv('politifact_labeled.csv')\n",
    "\n",
    "politifact_x = politifactDf['sources_quote'].astype(str).to_numpy()\n",
    "politifact_y = politifactDf['label'].to_numpy()"
   ]
  },
  {
   "cell_type": "markdown",
   "metadata": {},
   "source": [
    "### Tokenize the test data"
   ]
  },
  {
   "cell_type": "code",
   "execution_count": 19,
   "metadata": {},
   "outputs": [
    {
     "data": {
      "text/plain": [
       "11"
      ]
     },
     "execution_count": 19,
     "metadata": {},
     "output_type": "execute_result"
    }
   ],
   "source": [
    "round(sum([len(sentence.split()) for sentence in politifact_x]) / len(politifact_x))"
   ]
  },
  {
   "cell_type": "code",
   "execution_count": 20,
   "metadata": {},
   "outputs": [],
   "source": [
    "#declare hyperparameters\n",
    "\n",
    "# chosen to be the average number of tokens per sentence in training set\n",
    "max_seq_length_pf = 11"
   ]
  },
  {
   "cell_type": "code",
   "execution_count": 21,
   "metadata": {},
   "outputs": [],
   "source": [
    "# num_words stores the maximum number of vocabulary words to use when transformations are called\n",
    "tokenizer_pf = Tokenizer(num_words=max_vocab_length, oov_token=oov_rep)\n",
    "tokenizer_pf.fit_on_texts(politifact_x)\n",
    "\n",
    "# word_index is dictionary where key is a token (in our case, a token is a word)\n",
    "# and value is the integer representation of the token\n",
    "word_index_pf = tokenizer.word_index"
   ]
  },
  {
   "cell_type": "code",
   "execution_count": 22,
   "metadata": {},
   "outputs": [],
   "source": [
    "politifact_sequence = tokenizer_pf.texts_to_sequences(politifact_x)\n",
    "politifact_padded = pad_sequences(politifact_sequence, maxlen=max_seq_length_pf, padding=padding_type, truncating=trunc_type)"
   ]
  },
  {
   "cell_type": "code",
   "execution_count": 23,
   "metadata": {},
   "outputs": [
    {
     "name": "stdout",
     "output_type": "stream",
     "text": [
      "WARNING:tensorflow:Model was constructed with shape (None, 242) for input KerasTensor(type_spec=TensorSpec(shape=(None, 242), dtype=tf.float32, name='embedding_input'), name='embedding_input', description=\"created by layer 'embedding_input'\"), but it was called on an input with incompatible shape (None, 11).\n",
      "492/492 [==============================] - 2s 5ms/step - loss: 2.4609 - accuracy: 0.5763\n",
      "CPU times: user 3.86 s, sys: 214 ms, total: 4.07 s\n",
      "Wall time: 2.47 s\n"
     ]
    },
    {
     "data": {
      "text/plain": [
       "[2.4609317779541016, 0.5763412117958069]"
      ]
     },
     "execution_count": 23,
     "metadata": {},
     "output_type": "execute_result"
    }
   ],
   "source": [
    "%%time\n",
    "model.evaluate(politifact_padded, politifact_y)"
   ]
  },
  {
   "cell_type": "code",
   "execution_count": 24,
   "metadata": {},
   "outputs": [
    {
     "name": "stdout",
     "output_type": "stream",
     "text": [
      "WARNING:tensorflow:Model was constructed with shape (None, 242) for input KerasTensor(type_spec=TensorSpec(shape=(None, 242), dtype=tf.float32, name='embedding_input'), name='embedding_input', description=\"created by layer 'embedding_input'\"), but it was called on an input with incompatible shape (None, 11).\n",
      "              precision    recall  f1-score   support\n",
      "\n",
      "           0       0.64      0.76      0.70     10092\n",
      "           1       0.37      0.26      0.30      5640\n",
      "\n",
      "    accuracy                           0.58     15732\n",
      "   macro avg       0.51      0.51      0.50     15732\n",
      "weighted avg       0.55      0.58      0.55     15732\n",
      "\n",
      "CPU times: user 3.86 s, sys: 179 ms, total: 4.04 s\n",
      "Wall time: 2.44 s\n"
     ]
    }
   ],
   "source": [
    "%%time\n",
    "# inference\n",
    "prediction_pf = (model.predict(politifact_padded) > 0.5).astype('int32')\n",
    "print(classification_report(politifact_y, prediction_pf))"
   ]
  },
  {
   "cell_type": "code",
   "execution_count": 25,
   "metadata": {},
   "outputs": [
    {
     "name": "stdout",
     "output_type": "stream",
     "text": [
      "[[7626 2466]\n",
      " [4199 1441]]\n"
     ]
    }
   ],
   "source": [
    "# confusion matrix\n",
    "cf_matrix_pf = confusion_matrix(politifact_y, prediction_pf)\n",
    "print(cf_matrix_pf)"
   ]
  },
  {
   "cell_type": "code",
   "execution_count": 26,
   "metadata": {},
   "outputs": [
    {
     "data": {
      "image/png": "[encoded data removed]",
      "text/plain": [
       "<Figure size 576x432 with 2 Axes>"
      ]
     },
     "metadata": {
      "needs_background": "light"
     },
     "output_type": "display_data"
    }
   ],
   "source": [
    "fig, ax = plt.subplots(figsize=(8,6))\n",
    "\n",
    "group_names = ['True Fake','False Real','False Fake','True Real']\n",
    "group_counts = ['{0:0.0f}'.format(value) for value in cf_matrix_pf.flatten()]\n",
    "group_percentages = ['{0:.2%}'.format(value) for value in cf_matrix_pf.flatten()/np.sum(cf_matrix_pf)]\n",
    "labels = [f'{v1}\\n{v2}\\n{v3}' for v1, v2, v3 in zip(group_names,group_counts,group_percentages)]\n",
    "labels = np.asarray(labels).reshape(2,2)\n",
    "sns.heatmap(cf_matrix_pf, annot=labels, cmap='Blues', fmt='', ax=ax)\n",
    "plt.show()"
   ]
  }
 ],
 "metadata": {
  "interpreter": {
   "hash": "326db04f4cdc18fde511b2b859e22c0b44a6e6d28e69ee1cb046656054923771"
  },
  "kernelspec": {
   "display_name": "Python 3.8.10 64-bit ('ml_project': conda)",
   "language": "python",
   "name": "python3"
  },
  "language_info": {
   "codemirror_mode": {
    "name": "ipython",
    "version": 3
   },
   "file_extension": ".py",
   "mimetype": "text/x-python",
   "name": "python",
   "nbconvert_exporter": "python",
   "pygments_lexer": "ipython3",
   "version": "3.8.10"
  },
  "orig_nbformat": 4
 },
 "nbformat": 4,
 "nbformat_minor": 2
}
